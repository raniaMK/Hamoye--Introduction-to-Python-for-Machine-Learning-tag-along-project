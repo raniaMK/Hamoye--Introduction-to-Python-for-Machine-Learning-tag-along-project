{
 "cells": [
  {
   "cell_type": "markdown",
   "id": "2eb4567d",
   "metadata": {},
   "source": [
    "### Hamoye- Introduction to Python for Machine Learning tag along project\n",
    "## by Rania MEKRAZI"
   ]
  },
  {
   "cell_type": "code",
   "execution_count": null,
   "id": "0e73aa93",
   "metadata": {},
   "outputs": [],
   "source": []
  },
  {
   "cell_type": "code",
   "execution_count": 12,
   "id": "5c31b9ce",
   "metadata": {},
   "outputs": [],
   "source": [
    "#Import python lib\n",
    "import pandas as pd"
   ]
  },
  {
   "cell_type": "code",
   "execution_count": 13,
   "id": "89c93dbc",
   "metadata": {},
   "outputs": [],
   "source": [
    "#download data\n",
    "url = 'https://github.com/HamoyeHQ/HDSC-Introduction-to-Python-for-machine-learning/files/7768140/FoodBalanceSheets_E_Africa_NOFLAG.csv'\n",
    "df = pd.read_csv(url, encoding=\"latin-1\")"
   ]
  },
  {
   "cell_type": "code",
   "execution_count": 14,
   "id": "97690f61",
   "metadata": {},
   "outputs": [
    {
     "data": {
      "text/html": [
       "<div>\n",
       "<style scoped>\n",
       "    .dataframe tbody tr th:only-of-type {\n",
       "        vertical-align: middle;\n",
       "    }\n",
       "\n",
       "    .dataframe tbody tr th {\n",
       "        vertical-align: top;\n",
       "    }\n",
       "\n",
       "    .dataframe thead th {\n",
       "        text-align: right;\n",
       "    }\n",
       "</style>\n",
       "<table border=\"1\" class=\"dataframe\">\n",
       "  <thead>\n",
       "    <tr style=\"text-align: right;\">\n",
       "      <th></th>\n",
       "      <th>Area Code</th>\n",
       "      <th>Area</th>\n",
       "      <th>Item Code</th>\n",
       "      <th>Item</th>\n",
       "      <th>Element Code</th>\n",
       "      <th>Element</th>\n",
       "      <th>Unit</th>\n",
       "      <th>Y2014</th>\n",
       "      <th>Y2015</th>\n",
       "      <th>Y2016</th>\n",
       "      <th>Y2017</th>\n",
       "      <th>Y2018</th>\n",
       "    </tr>\n",
       "  </thead>\n",
       "  <tbody>\n",
       "    <tr>\n",
       "      <th>0</th>\n",
       "      <td>4</td>\n",
       "      <td>Algeria</td>\n",
       "      <td>2501</td>\n",
       "      <td>Population</td>\n",
       "      <td>511</td>\n",
       "      <td>Total Population - Both sexes</td>\n",
       "      <td>1000 persons</td>\n",
       "      <td>38924.00</td>\n",
       "      <td>39728.00</td>\n",
       "      <td>40551.00</td>\n",
       "      <td>41389.00</td>\n",
       "      <td>42228.00</td>\n",
       "    </tr>\n",
       "    <tr>\n",
       "      <th>1</th>\n",
       "      <td>4</td>\n",
       "      <td>Algeria</td>\n",
       "      <td>2501</td>\n",
       "      <td>Population</td>\n",
       "      <td>5301</td>\n",
       "      <td>Domestic supply quantity</td>\n",
       "      <td>1000 tonnes</td>\n",
       "      <td>0.00</td>\n",
       "      <td>0.00</td>\n",
       "      <td>0.00</td>\n",
       "      <td>0.00</td>\n",
       "      <td>0.00</td>\n",
       "    </tr>\n",
       "    <tr>\n",
       "      <th>2</th>\n",
       "      <td>4</td>\n",
       "      <td>Algeria</td>\n",
       "      <td>2901</td>\n",
       "      <td>Grand Total</td>\n",
       "      <td>664</td>\n",
       "      <td>Food supply (kcal/capita/day)</td>\n",
       "      <td>kcal/capita/day</td>\n",
       "      <td>3377.00</td>\n",
       "      <td>3379.00</td>\n",
       "      <td>3372.00</td>\n",
       "      <td>3341.00</td>\n",
       "      <td>3322.00</td>\n",
       "    </tr>\n",
       "    <tr>\n",
       "      <th>3</th>\n",
       "      <td>4</td>\n",
       "      <td>Algeria</td>\n",
       "      <td>2901</td>\n",
       "      <td>Grand Total</td>\n",
       "      <td>674</td>\n",
       "      <td>Protein supply quantity (g/capita/day)</td>\n",
       "      <td>g/capita/day</td>\n",
       "      <td>94.90</td>\n",
       "      <td>94.35</td>\n",
       "      <td>94.72</td>\n",
       "      <td>92.82</td>\n",
       "      <td>91.83</td>\n",
       "    </tr>\n",
       "    <tr>\n",
       "      <th>4</th>\n",
       "      <td>4</td>\n",
       "      <td>Algeria</td>\n",
       "      <td>2901</td>\n",
       "      <td>Grand Total</td>\n",
       "      <td>684</td>\n",
       "      <td>Fat supply quantity (g/capita/day)</td>\n",
       "      <td>g/capita/day</td>\n",
       "      <td>80.06</td>\n",
       "      <td>79.36</td>\n",
       "      <td>77.40</td>\n",
       "      <td>80.19</td>\n",
       "      <td>77.28</td>\n",
       "    </tr>\n",
       "  </tbody>\n",
       "</table>\n",
       "</div>"
      ],
      "text/plain": [
       "   Area Code     Area  Item Code         Item  Element Code  \\\n",
       "0          4  Algeria       2501   Population           511   \n",
       "1          4  Algeria       2501   Population          5301   \n",
       "2          4  Algeria       2901  Grand Total           664   \n",
       "3          4  Algeria       2901  Grand Total           674   \n",
       "4          4  Algeria       2901  Grand Total           684   \n",
       "\n",
       "                                  Element             Unit     Y2014  \\\n",
       "0           Total Population - Both sexes     1000 persons  38924.00   \n",
       "1                Domestic supply quantity      1000 tonnes      0.00   \n",
       "2           Food supply (kcal/capita/day)  kcal/capita/day   3377.00   \n",
       "3  Protein supply quantity (g/capita/day)     g/capita/day     94.90   \n",
       "4      Fat supply quantity (g/capita/day)     g/capita/day     80.06   \n",
       "\n",
       "      Y2015     Y2016     Y2017     Y2018  \n",
       "0  39728.00  40551.00  41389.00  42228.00  \n",
       "1      0.00      0.00      0.00      0.00  \n",
       "2   3379.00   3372.00   3341.00   3322.00  \n",
       "3     94.35     94.72     92.82     91.83  \n",
       "4     79.36     77.40     80.19     77.28  "
      ]
     },
     "execution_count": 14,
     "metadata": {},
     "output_type": "execute_result"
    }
   ],
   "source": [
    "#show the data\n",
    "df.head()"
   ]
  },
  {
   "cell_type": "code",
   "execution_count": 15,
   "id": "bb23d582",
   "metadata": {},
   "outputs": [
    {
     "name": "stdout",
     "output_type": "stream",
     "text": [
      "The total number  is 292836.0\n"
     ]
    }
   ],
   "source": [
    "# do groupby  of 'Element' and write the total number of sum of processing in 2017\n",
    "sum_process=df.groupby('Element')['Y2017'].sum()\n",
    "print('The total number  is ' + str(sum_process.loc['Processing']))"
   ]
  },
  {
   "cell_type": "code",
   "execution_count": 16,
   "id": "87c6cc12",
   "metadata": {},
   "outputs": [
    {
     "name": "stdout",
     "output_type": "stream",
     "text": [
      "The total number missing is: 1589\n"
     ]
    }
   ],
   "source": [
    "# the percentage of missing data in 2014 to 3dp\n",
    "total_number=df['Y2014'].isnull().sum()\n",
    "print('The total number missing is: ' + str(total_number))"
   ]
  },
  {
   "cell_type": "code",
   "execution_count": 17,
   "id": "64fa1eb1",
   "metadata": {},
   "outputs": [
    {
     "name": "stdout",
     "output_type": "stream",
     "text": [
      "mean: 140.9177648602722\n",
      "standard deviation: 1671.8623590567995\n"
     ]
    }
   ],
   "source": [
    "# The meand and standard deviation of the dataset for the year 2017 to 2dp\n",
    "std=df[\"Y2017\"].std()\n",
    "mean=df['Y2017'].mean()\n",
    "print('mean: ' + str(mean)); print('standard deviation: ' + str(std))"
   ]
  },
  {
   "cell_type": "code",
   "execution_count": 18,
   "id": "a6db07d1",
   "metadata": {},
   "outputs": [
    {
     "name": "stdout",
     "output_type": "stream",
     "text": [
      "                                            Y2014      Y2015      Y2016  \\\n",
      "Element                                                                   \n",
      "Domestic supply quantity                108756.00  110798.00  116483.00   \n",
      "Export Quantity                          39686.00   52578.00   35420.00   \n",
      "Fat supply quantity (g/capita/day)          93.73      96.79      94.33   \n",
      "Feed                                     29797.00   30472.00   31607.00   \n",
      "Food                                     49014.00   50705.00   52612.00   \n",
      "Food supply (kcal/capita/day)             3435.00    3454.00    3451.00   \n",
      "Food supply quantity (kg/capita/yr)        428.27     418.21     419.48   \n",
      "Import Quantity                          19582.00   18824.00   19858.00   \n",
      "Losses                                    9807.00    9999.00   10432.00   \n",
      "Other uses (non-food)                    12552.00    6001.00    6099.00   \n",
      "Processing                               18383.00   21609.00   21739.00   \n",
      "Production                              109593.00  111663.00  119330.00   \n",
      "Protein supply quantity (g/capita/day)     100.34     100.33     100.94   \n",
      "Residuals                                16697.00   16136.00   18077.00   \n",
      "Seed                                      1258.00    1352.00    1402.00   \n",
      "Stock Variation                           4569.00    3418.00    3266.00   \n",
      "Total Population - Both sexes           176405.00  181137.00  185960.00   \n",
      "Tourist consumption                         62.00      48.00       6.00   \n",
      "\n",
      "                                            Y2017      Y2018  \n",
      "Element                                                       \n",
      "Domestic supply quantity                112625.00  117038.00  \n",
      "Export Quantity                          34641.00   34641.00  \n",
      "Fat supply quantity (g/capita/day)          97.13      94.94  \n",
      "Feed                                     29580.00   31567.00  \n",
      "Food                                     51220.00   54077.00  \n",
      "Food supply (kcal/capita/day)             3457.00    3450.00  \n",
      "Food supply quantity (kg/capita/yr)        433.38     443.56  \n",
      "Import Quantity                          18627.00   18036.00  \n",
      "Losses                                   10342.00   10355.00  \n",
      "Other uses (non-food)                    17219.00   17221.00  \n",
      "Processing                               22174.00   22609.00  \n",
      "Production                              117702.00  118172.00  \n",
      "Protein supply quantity (g/capita/day)     100.10     101.08  \n",
      "Residuals                                17476.00   17323.00  \n",
      "Seed                                      1453.00    1474.00  \n",
      "Stock Variation                           5089.00    2226.00  \n",
      "Total Population - Both sexes           190873.00  195875.00  \n",
      "Tourist consumption                          6.00       6.00  \n",
      "The year with the highest stock variation is 5089.0\n"
     ]
    }
   ],
   "source": [
    "# which year had the highest stock variation,\n",
    "# The answer is 2017.\n",
    "stock_var= df.groupby('Element')[['Y2014', 'Y2015','Y2016','Y2017', 'Y2018']].max()\n",
    "print(stock_var)\n",
    "print('The year with the highest stock variation is ' + str(stock_var.loc['Stock Variation', 'Y2017']))"
   ]
  },
  {
   "cell_type": "code",
   "execution_count": 19,
   "id": "d7317993",
   "metadata": {},
   "outputs": [
    {
     "name": "stdout",
     "output_type": "stream",
     "text": [
      "                        Y2015      Y2018\n",
      "Item                                    \n",
      "Vegetables, Other   158104.08  163987.21\n",
      "Vegetal Products    107064.17  107775.39\n",
      "Wheat and products  234710.51  242645.19\n",
      "Wine                  4251.81    4039.32\n",
      "Yams                203151.78  221272.09\n"
     ]
    }
   ],
   "source": [
    "# The total sum of wine produced in 2015 and 2018 respectively\n",
    "\n",
    "total_wine= df.groupby('Item')[['Item','Y2015','Y2018']].sum()\n",
    "print(total_wine.tail())"
   ]
  },
  {
   "cell_type": "markdown",
   "id": "38edb890",
   "metadata": {},
   "source": [
    "### The answer is 4251.81 and 4039.32"
   ]
  },
  {
   "cell_type": "code",
   "execution_count": 20,
   "id": "15d3d3a4",
   "metadata": {},
   "outputs": [
    {
     "name": "stdout",
     "output_type": "stream",
     "text": [
      "                                                      Y2015\n",
      "Area       Element                                         \n",
      "Madagascar Protein supply quantity (g/capita/day)    173.05\n",
      "           Residuals                                -616.00\n",
      "           Seed                                      699.00\n",
      "           Stock Variation                          -505.00\n",
      "           Total Population - Both sexes           24234.00\n"
     ]
    }
   ],
   "source": [
    "# Total protein supply in Madagascar in 2015\n",
    "\n",
    "general = df.groupby(['Area', 'Element'])[['Y2015']].sum()\n",
    "madga_protein_supply=general.loc[['Madagascar']]\n",
    "print(madga_protein_supply.tail())"
   ]
  },
  {
   "cell_type": "markdown",
   "id": "e2ea1bb2",
   "metadata": {},
   "source": [
    "### Answer is = 173.05"
   ]
  },
  {
   "cell_type": "code",
   "execution_count": 21,
   "id": "a9bedc9c",
   "metadata": {},
   "outputs": [
    {
     "name": "stdout",
     "output_type": "stream",
     "text": [
      "                                  Y2017\n",
      "Area                                   \n",
      "Sudan (former)                     0.00\n",
      "Ethiopia PDR                       0.00\n",
      "Comoros                           59.84\n",
      "Seychelles                       442.34\n",
      "Sao Tome and Principe          12662.63\n",
      "Cabo Verde                     14650.74\n",
      "Guinea-Bissau                  19102.77\n",
      "Lesotho                        21267.96\n",
      "Botswana                       22101.30\n",
      "Djibouti                       22729.91\n",
      "Gambia                         23154.18\n",
      "Gabon                          27979.64\n",
      "Liberia                        29342.20\n",
      "Namibia                        29874.89\n",
      "Central African Republic       29937.00\n",
      "Congo                          41181.68\n",
      "Togo                           49841.88\n",
      "Mauritius                      51114.83\n",
      "Eswatini                       54343.33\n",
      "Sierra Leone                   55311.33\n",
      "Chad                           71594.68\n",
      "Rwanda                         73663.69\n",
      "Zimbabwe                       75919.34\n",
      "Senegal                        95681.15\n",
      "Guinea                         98138.87\n",
      "Burkina Faso                  101855.07\n",
      "Zambia                        103223.77\n",
      "Tunisia                       124167.20\n",
      "Benin                         124771.22\n",
      "Niger                         126707.58\n",
      "Madagascar                    131197.73\n",
      "Mali                          149928.33\n",
      "Mauritania                    156665.46\n",
      "Mozambique                    161407.98\n",
      "Malawi                        181098.71\n",
      "Uganda                        213950.38\n",
      "Côte d'Ivoire                 224599.01\n",
      "Angola                        229159.57\n",
      "Cameroon                      232030.43\n",
      "Sudan                         239931.92\n",
      "Kenya                         264660.66\n",
      "United Republic of Tanzania   322616.85\n",
      "Algeria                       325644.27\n",
      "Ghana                         337599.06\n",
      "Morocco                       388495.36\n",
      "Ethiopia                      448683.76\n",
      "South Africa                  517590.54\n",
      "Egypt                         866379.92\n",
      "Nigeria                      1483268.23\n",
      "Guinea-Bissau as it comes 7 in order of ascending\n"
     ]
    }
   ],
   "source": [
    "# Perform a groupby operation on 'Area', select columns 'Y2017' and 'Area', and find out which of these areas has \n",
    "# the 7th lowest sum in 20117\n",
    "# the Ans= Guinea-Bissau\n",
    "lowest_sum=df.groupby('Area')[['Area', 'Y2017']].sum()\n",
    "print(lowest_sum.sort_values(by='Y2017', axis= 0, ascending=True))\n",
    "print('Guinea-Bissau as it comes 7 in order of ascending')"
   ]
  },
  {
   "cell_type": "code",
   "execution_count": 23,
   "id": "30decd69",
   "metadata": {},
   "outputs": [
    {
     "name": "stdout",
     "output_type": "stream",
     "text": [
      "                                  Y2017\n",
      "Area                                   \n",
      "Sudan (former)                     0.00\n",
      "Ethiopia PDR                       0.00\n",
      "Comoros                           59.84\n",
      "Seychelles                       442.34\n",
      "Sao Tome and Principe          12662.63\n",
      "Cabo Verde                     14650.74\n",
      "Guinea-Bissau                  19102.77\n",
      "Lesotho                        21267.96\n",
      "Botswana                       22101.30\n",
      "Djibouti                       22729.91\n",
      "Gambia                         23154.18\n",
      "Gabon                          27979.64\n",
      "Liberia                        29342.20\n",
      "Namibia                        29874.89\n",
      "Central African Republic       29937.00\n",
      "Congo                          41181.68\n",
      "Togo                           49841.88\n",
      "Mauritius                      51114.83\n",
      "Eswatini                       54343.33\n",
      "Sierra Leone                   55311.33\n",
      "Chad                           71594.68\n",
      "Rwanda                         73663.69\n",
      "Zimbabwe                       75919.34\n",
      "Senegal                        95681.15\n",
      "Guinea                         98138.87\n",
      "Burkina Faso                  101855.07\n",
      "Zambia                        103223.77\n",
      "Tunisia                       124167.20\n",
      "Benin                         124771.22\n",
      "Niger                         126707.58\n",
      "Madagascar                    131197.73\n",
      "Mali                          149928.33\n",
      "Mauritania                    156665.46\n",
      "Mozambique                    161407.98\n",
      "Malawi                        181098.71\n",
      "Uganda                        213950.38\n",
      "Côte d'Ivoire                 224599.01\n",
      "Angola                        229159.57\n",
      "Cameroon                      232030.43\n",
      "Sudan                         239931.92\n",
      "Kenya                         264660.66\n",
      "United Republic of Tanzania   322616.85\n",
      "Algeria                       325644.27\n",
      "Ghana                         337599.06\n",
      "Morocco                       388495.36\n",
      "Ethiopia                      448683.76\n",
      "South Africa                  517590.54\n",
      "Egypt                         866379.92\n",
      "Nigeria                      1483268.23\n",
      "Nigeria is the highest as it comes last in ascending order\n"
     ]
    }
   ],
   "source": [
    "# Perform a groupby operation on 'Area', select columns 'Y2017' and 'Area', and find out which of these areas has \n",
    "# the highest sum in 20117\n",
    "# the Ans= Nigeria\n",
    "highest_sum=df.groupby('Area')[['Area', 'Y2017']].sum()\n",
    "print(highest_sum.sort_values(by='Y2017', axis= 0, ascending=True))\n",
    "print('Nigeria is the highest as it comes last in ascending order')"
   ]
  },
  {
   "cell_type": "code",
   "execution_count": 24,
   "id": "c736c076",
   "metadata": {},
   "outputs": [
    {
     "name": "stdout",
     "output_type": "stream",
     "text": [
      "Y2014   -0.086111\n",
      "Y2015    0.202471\n",
      "Y2016    0.202471\n",
      "Y2017    0.203159\n",
      "Y2018   -0.086111\n",
      "dtype: float64\n"
     ]
    }
   ],
   "source": [
    "# Which year had the least correlation\n",
    "least_corr=df.groupby('Element Code')[['Y2014','Y2015','Y2016','Y2017','Y2018']].corr()\n",
    "_min=least_corr.min()\n",
    "print(_min)"
   ]
  },
  {
   "cell_type": "code",
   "execution_count": null,
   "id": "17bed70c",
   "metadata": {},
   "outputs": [],
   "source": []
  },
  {
   "cell_type": "code",
   "execution_count": null,
   "id": "c9f78d7e",
   "metadata": {},
   "outputs": [],
   "source": []
  }
 ],
 "metadata": {
  "kernelspec": {
   "display_name": "Python 3",
   "language": "python",
   "name": "python3"
  },
  "language_info": {
   "codemirror_mode": {
    "name": "ipython",
    "version": 3
   },
   "file_extension": ".py",
   "mimetype": "text/x-python",
   "name": "python",
   "nbconvert_exporter": "python",
   "pygments_lexer": "ipython3",
   "version": "3.6.13"
  }
 },
 "nbformat": 4,
 "nbformat_minor": 5
}
